{
 "cells": [
  {
   "cell_type": "markdown",
   "id": "b3714ecf-81ef-4ed2-9827-de841d3bf1e0",
   "metadata": {},
   "source": [
    "# stat and stop codon analysis"
   ]
  },
  {
   "cell_type": "code",
   "execution_count": 3,
   "id": "43d8028a-07dc-4030-8938-a89b3c30657d",
   "metadata": {},
   "outputs": [],
   "source": [
    "import os\n",
    "import re\n",
    "import pandas as pd\n",
    "import seaborn as sns\n",
    "from Bio import *\n",
    "import matplotlib.pyplot as plt\n",
    "import warnings\n",
    "import numpy as np\n",
    "import pandas as pd\n",
    "from Bio import SeqIO\n",
    "import traceback"
   ]
  },
  {
   "cell_type": "code",
   "execution_count": 4,
   "id": "13482265-ca52-4845-807d-ad3cff3515fe",
   "metadata": {},
   "outputs": [],
   "source": [
    "phage_order = [\n",
    "    'Pa15',\n",
    " 'Pa28',\n",
    "'Pa36',\n",
    " 'Pa29',\n",
    " 'Pa22',\n",
    " 'Pa6',\n",
    " 'Pa18',\n",
    " 'Pa25',\n",
    "'Pa3',\n",
    " 'Pa10',\n",
    " 'Pa12',\n",
    " 'Pa21',\n",
    " 'Pa24',\n",
    " 'Pa2',\n",
    " 'Pa33',\n",
    " 'Pa35']"
   ]
  },
  {
   "cell_type": "markdown",
   "id": "0ad52373-a2a8-4f4d-9b8a-26e05ffb0116",
   "metadata": {},
   "source": [
    "## start codon analysis"
   ]
  },
  {
   "cell_type": "code",
   "execution_count": 5,
   "id": "38dd4ad1-57bc-458c-9983-9f2a680c491b",
   "metadata": {},
   "outputs": [],
   "source": [
    "all_snps_df = pd.read_csv('final_df.csv').drop('Unnamed: 0', axis = 1)\n",
    "all_snps_df = all_snps_df[(all_snps_df.loc[:, 'reference'].isin(phage_order)) & (all_snps_df.loc[:, 'reads'].isin(phage_order))]\n",
    "all_snps_df =  all_snps_df[(all_snps_df.loc[:, 'morphology reads'] == 'Myoviridae') & (all_snps_df.loc[:, 'morphology reference'] == 'Myoviridae')]\n",
    "all_snps_df.loc[:, 'protein translation'] =  all_snps_df.loc[:, 'protein translation'].str[2:-2]\n",
    "wrong_start_df = all_snps_df[all_snps_df.loc[:, 'error'].str.contains('is not a start codon')].reset_index(drop = True)\n",
    "wrong_start_df.loc[:, 'percentage cutoff'] = wrong_start_df.loc[:, 'altered protein'].str.find('M')/wrong_start_df.loc[:, 'protein translation'].str.len()*100\n",
    "wrong_start_df.loc[:, 'original protein length'] = wrong_start_df.loc[:, 'protein translation'].str.len()\n",
    "wrong_start_df.loc[:, 'error'] = wrong_start_df.loc[:, 'error'].str.extract(\"(?<=First codon ')(.*)(?=' is not a start codon)\").loc[:, 0]"
   ]
  },
  {
   "cell_type": "code",
   "execution_count": 6,
   "id": "ec5bc1e1-0e10-497b-a6bf-17f91fb90a95",
   "metadata": {},
   "outputs": [
    {
     "data": {
      "text/plain": [
       "8.293460925039872"
      ]
     },
     "execution_count": 6,
     "metadata": {},
     "output_type": "execute_result"
    }
   ],
   "source": [
    "len(all_snps_df[all_snps_df.loc[:, 'altered sequence'].str[0] != 'A'].groupby('protein annotation').size())/len(all_snps_df.groupby('protein annotation').size())*100\n"
   ]
  },
  {
   "cell_type": "markdown",
   "id": "6d66cffd-4dc2-42ee-8111-0abc1ec40a1d",
   "metadata": {},
   "source": [
    "What wrong start utations do we have? "
   ]
  },
  {
   "cell_type": "code",
   "execution_count": null,
   "id": "938b873d-d7b0-4cb7-b746-cb6a791cffa9",
   "metadata": {},
   "outputs": [],
   "source": [
    "wrong_start_df = all_snps_df[all_snps_df.loc[:, 'altered sequence'].str[0] != 'A'].groupby('protein annotation').first()\n",
    "summary_wrong_start = wrong_start_df.groupby('error', as_index = False).size()\n",
    "num_start_codon_mutations = (summary_wrong_start.loc[:, 'size'].sum() - 8)\n",
    "#/len(all_snps_df.groupby('protein annotation').size())*100\n",
    "summary_wrong_start.loc[:, 'percentage'] = summary_wrong_start.loc[:, 'size']/num_start_codon_mutations*100\n",
    "summary_wrong_start"
   ]
  },
  {
   "cell_type": "code",
   "execution_count": null,
   "id": "e52ea5c3-d747-43ed-837e-e6dcf67462b4",
   "metadata": {},
   "outputs": [],
   "source": []
  },
  {
   "cell_type": "code",
   "execution_count": 32,
   "id": "bf292e57-b926-474e-a675-82a3fe938841",
   "metadata": {},
   "outputs": [
    {
     "data": {
      "text/plain": [
       "627"
      ]
     },
     "execution_count": 32,
     "metadata": {},
     "output_type": "execute_result"
    }
   ],
   "source": [
    "len(all_snps_df.groupby('protein annotation'))"
   ]
  },
  {
   "cell_type": "code",
   "execution_count": 28,
   "id": "dd048541-af5c-4af7-87f8-566fd5c7509b",
   "metadata": {},
   "outputs": [
    {
     "data": {
      "text/plain": [
       "85.12456891631396"
      ]
     },
     "execution_count": 28,
     "metadata": {},
     "output_type": "execute_result"
    }
   ],
   "source": [
    "100-(all_snps_df.loc[:, 'altered protein'].str[0] == 'M').sum()/all_snps_df.shape[0]*100/len(all_snps_df.groupby('protein annotation').size())*100"
   ]
  },
  {
   "cell_type": "code",
   "execution_count": 14,
   "id": "161c1654-f1f9-453d-b8ce-023e93c58af9",
   "metadata": {},
   "outputs": [
    {
     "data": {
      "text/html": [
       "<div>\n",
       "<style scoped>\n",
       "    .dataframe tbody tr th:only-of-type {\n",
       "        vertical-align: middle;\n",
       "    }\n",
       "\n",
       "    .dataframe tbody tr th {\n",
       "        vertical-align: top;\n",
       "    }\n",
       "\n",
       "    .dataframe thead th {\n",
       "        text-align: right;\n",
       "    }\n",
       "</style>\n",
       "<table border=\"1\" class=\"dataframe\">\n",
       "  <thead>\n",
       "    <tr style=\"text-align: right;\">\n",
       "      <th></th>\n",
       "      <th>POS</th>\n",
       "      <th>REF</th>\n",
       "      <th>ALT</th>\n",
       "      <th>reference</th>\n",
       "      <th>reads</th>\n",
       "      <th>morphology reference</th>\n",
       "      <th>morphology reads</th>\n",
       "      <th>gene start</th>\n",
       "      <th>gene stop</th>\n",
       "      <th>protein annotation</th>\n",
       "      <th>...</th>\n",
       "      <th>complement</th>\n",
       "      <th>protein translation</th>\n",
       "      <th>ID</th>\n",
       "      <th>Size (bp)</th>\n",
       "      <th>phage</th>\n",
       "      <th>altered sequence</th>\n",
       "      <th>error</th>\n",
       "      <th>altered protein</th>\n",
       "      <th>percentage cutoff</th>\n",
       "      <th>original protein length</th>\n",
       "    </tr>\n",
       "  </thead>\n",
       "  <tbody>\n",
       "    <tr>\n",
       "      <th>0</th>\n",
       "      <td>24960</td>\n",
       "      <td>G</td>\n",
       "      <td>T</td>\n",
       "      <td>Pa10</td>\n",
       "      <td>Pa12</td>\n",
       "      <td>Myoviridae</td>\n",
       "      <td>Myoviridae</td>\n",
       "      <td>24958</td>\n",
       "      <td>25222</td>\n",
       "      <td>['SEED:fig|287.19287.peg.44']</td>\n",
       "      <td>...</td>\n",
       "      <td>1</td>\n",
       "      <td>MYAPDHPEEVPMSFLEMQVDQPQPKTAPSFVLIGILYLIGDERLDD...</td>\n",
       "      <td>287.19287</td>\n",
       "      <td>66638.0</td>\n",
       "      <td>Pa10</td>\n",
       "      <td>ATTTACGCACCAGACCATCCTGAAGAGGTTCCTATGTCCTTCCTCG...</td>\n",
       "      <td>ATT</td>\n",
       "      <td>IYAPDHPEEVPMSFLEMQVDQPQPKTAPSFVLIGILYLIGDERLDD...</td>\n",
       "      <td>12.643678</td>\n",
       "      <td>87</td>\n",
       "    </tr>\n",
       "    <tr>\n",
       "      <th>1</th>\n",
       "      <td>39614</td>\n",
       "      <td>G</td>\n",
       "      <td>A</td>\n",
       "      <td>Pa10</td>\n",
       "      <td>Pa12</td>\n",
       "      <td>Myoviridae</td>\n",
       "      <td>Myoviridae</td>\n",
       "      <td>38789</td>\n",
       "      <td>41678</td>\n",
       "      <td>['SEED:fig|287.19287.peg.61']</td>\n",
       "      <td>...</td>\n",
       "      <td>-1</td>\n",
       "      <td>MITPELIPSPFAAQGDKDPIPQTSSTGFANLRDGYTPDYEISLASN...</td>\n",
       "      <td>287.19287</td>\n",
       "      <td>66638.0</td>\n",
       "      <td>Pa10</td>\n",
       "      <td>GTGATCACACCCGAACTGATACCCAGTCCGTTTGCTGCGCAGGGCG...</td>\n",
       "      <td>GTG</td>\n",
       "      <td>VITPELIPSPFAAQGDKDPIPQTSSTGFANLRDGYTPDYEISLASN...</td>\n",
       "      <td>7.796258</td>\n",
       "      <td>962</td>\n",
       "    </tr>\n",
       "    <tr>\n",
       "      <th>2</th>\n",
       "      <td>39632</td>\n",
       "      <td>T</td>\n",
       "      <td>G</td>\n",
       "      <td>Pa10</td>\n",
       "      <td>Pa12</td>\n",
       "      <td>Myoviridae</td>\n",
       "      <td>Myoviridae</td>\n",
       "      <td>38789</td>\n",
       "      <td>41678</td>\n",
       "      <td>['SEED:fig|287.19287.peg.61']</td>\n",
       "      <td>...</td>\n",
       "      <td>-1</td>\n",
       "      <td>MITPELIPSPFAAQGDKDPIPQTSSTGFANLRDGYTPDYEISLASN...</td>\n",
       "      <td>287.19287</td>\n",
       "      <td>66638.0</td>\n",
       "      <td>Pa10</td>\n",
       "      <td>GTGATCACACCCGAACTGATACCCAGTCCGTTTGCTGCGCAGGGCG...</td>\n",
       "      <td>GTG</td>\n",
       "      <td>VITPELIPSPFAAQGDKDPIPQTSSTGFANLRDGYTPDYEISLASN...</td>\n",
       "      <td>7.796258</td>\n",
       "      <td>962</td>\n",
       "    </tr>\n",
       "    <tr>\n",
       "      <th>3</th>\n",
       "      <td>39686</td>\n",
       "      <td>C</td>\n",
       "      <td>A</td>\n",
       "      <td>Pa10</td>\n",
       "      <td>Pa12</td>\n",
       "      <td>Myoviridae</td>\n",
       "      <td>Myoviridae</td>\n",
       "      <td>38789</td>\n",
       "      <td>41678</td>\n",
       "      <td>['SEED:fig|287.19287.peg.61']</td>\n",
       "      <td>...</td>\n",
       "      <td>-1</td>\n",
       "      <td>MITPELIPSPFAAQGDKDPIPQTSSTGFANLRDGYTPDYEISLASN...</td>\n",
       "      <td>287.19287</td>\n",
       "      <td>66638.0</td>\n",
       "      <td>Pa10</td>\n",
       "      <td>GTGATCACACCCGAACTGATACCCAGTCCGTTTGCTGCGCAGGGCG...</td>\n",
       "      <td>GTG</td>\n",
       "      <td>VITPELIPSPFAAQGDKDPIPQTSSTGFANLRDGYTPDYEISLASN...</td>\n",
       "      <td>7.796258</td>\n",
       "      <td>962</td>\n",
       "    </tr>\n",
       "    <tr>\n",
       "      <th>4</th>\n",
       "      <td>39782</td>\n",
       "      <td>G</td>\n",
       "      <td>A</td>\n",
       "      <td>Pa10</td>\n",
       "      <td>Pa12</td>\n",
       "      <td>Myoviridae</td>\n",
       "      <td>Myoviridae</td>\n",
       "      <td>38789</td>\n",
       "      <td>41678</td>\n",
       "      <td>['SEED:fig|287.19287.peg.61']</td>\n",
       "      <td>...</td>\n",
       "      <td>-1</td>\n",
       "      <td>MITPELIPSPFAAQGDKDPIPQTSSTGFANLRDGYTPDYEISLASN...</td>\n",
       "      <td>287.19287</td>\n",
       "      <td>66638.0</td>\n",
       "      <td>Pa10</td>\n",
       "      <td>GTGATCACACCCGAACTGATACCCAGTCCGTTTGCTGCGCAGGGCG...</td>\n",
       "      <td>GTG</td>\n",
       "      <td>VITPELIPSPFAAQGDKDPIPQTSSTGFANLRDGYTPDYEISLASN...</td>\n",
       "      <td>7.796258</td>\n",
       "      <td>962</td>\n",
       "    </tr>\n",
       "    <tr>\n",
       "      <th>...</th>\n",
       "      <td>...</td>\n",
       "      <td>...</td>\n",
       "      <td>...</td>\n",
       "      <td>...</td>\n",
       "      <td>...</td>\n",
       "      <td>...</td>\n",
       "      <td>...</td>\n",
       "      <td>...</td>\n",
       "      <td>...</td>\n",
       "      <td>...</td>\n",
       "      <td>...</td>\n",
       "      <td>...</td>\n",
       "      <td>...</td>\n",
       "      <td>...</td>\n",
       "      <td>...</td>\n",
       "      <td>...</td>\n",
       "      <td>...</td>\n",
       "      <td>...</td>\n",
       "      <td>...</td>\n",
       "      <td>...</td>\n",
       "      <td>...</td>\n",
       "    </tr>\n",
       "    <tr>\n",
       "      <th>2787</th>\n",
       "      <td>66091</td>\n",
       "      <td>C</td>\n",
       "      <td>T</td>\n",
       "      <td>Pa12</td>\n",
       "      <td>Pa10</td>\n",
       "      <td>Myoviridae</td>\n",
       "      <td>Myoviridae</td>\n",
       "      <td>65752</td>\n",
       "      <td>66223</td>\n",
       "      <td>['SEED:fig|287.19288.peg.93']</td>\n",
       "      <td>...</td>\n",
       "      <td>-1</td>\n",
       "      <td>PDFEVVQKAQPTQQGTSTRPTIFFQKLFDIPRGWPATDWHLDNTAR...</td>\n",
       "      <td>287.19288</td>\n",
       "      <td>66223.0</td>\n",
       "      <td>Pa12</td>\n",
       "      <td>CCGGATTTTGAAGTCGTCCAGAAAGCTCAGCCGACCCAACAGGGAA...</td>\n",
       "      <td>CCG</td>\n",
       "      <td>PDFEVVQKAQPTQQGTSTRPTIFFQKLFDIPRGWPATDWHLDNTAR...</td>\n",
       "      <td>83.333333</td>\n",
       "      <td>156</td>\n",
       "    </tr>\n",
       "    <tr>\n",
       "      <th>2788</th>\n",
       "      <td>66133</td>\n",
       "      <td>A</td>\n",
       "      <td>G</td>\n",
       "      <td>Pa12</td>\n",
       "      <td>Pa10</td>\n",
       "      <td>Myoviridae</td>\n",
       "      <td>Myoviridae</td>\n",
       "      <td>65752</td>\n",
       "      <td>66223</td>\n",
       "      <td>['SEED:fig|287.19288.peg.93']</td>\n",
       "      <td>...</td>\n",
       "      <td>-1</td>\n",
       "      <td>PDFEVVQKAQPTQQGTSTRPTIFFQKLFDIPRGWPATDWHLDNTAR...</td>\n",
       "      <td>287.19288</td>\n",
       "      <td>66223.0</td>\n",
       "      <td>Pa12</td>\n",
       "      <td>CCGGATTTTGAAGTCGTCCAGAAAGCTCAGCCGACCCAACAGGGAA...</td>\n",
       "      <td>CCG</td>\n",
       "      <td>PDFEVVQKAQPTQQGTSTRPTIFFQKLFDIPRGWPATDWHLDNTAR...</td>\n",
       "      <td>83.333333</td>\n",
       "      <td>156</td>\n",
       "    </tr>\n",
       "    <tr>\n",
       "      <th>2789</th>\n",
       "      <td>66145</td>\n",
       "      <td>T</td>\n",
       "      <td>C</td>\n",
       "      <td>Pa12</td>\n",
       "      <td>Pa10</td>\n",
       "      <td>Myoviridae</td>\n",
       "      <td>Myoviridae</td>\n",
       "      <td>65752</td>\n",
       "      <td>66223</td>\n",
       "      <td>['SEED:fig|287.19288.peg.93']</td>\n",
       "      <td>...</td>\n",
       "      <td>-1</td>\n",
       "      <td>PDFEVVQKAQPTQQGTSTRPTIFFQKLFDIPRGWPATDWHLDNTAR...</td>\n",
       "      <td>287.19288</td>\n",
       "      <td>66223.0</td>\n",
       "      <td>Pa12</td>\n",
       "      <td>CCGGATTTTGAAGTCGTCCAGAAAGCTCAGCCGACCCAACAGGGAA...</td>\n",
       "      <td>CCG</td>\n",
       "      <td>PDFEVVQKAQPTQQGTSTRPTIFFQKLFDIPRGWPATDWHLDNTAR...</td>\n",
       "      <td>83.333333</td>\n",
       "      <td>156</td>\n",
       "    </tr>\n",
       "    <tr>\n",
       "      <th>2790</th>\n",
       "      <td>66154</td>\n",
       "      <td>A</td>\n",
       "      <td>G</td>\n",
       "      <td>Pa12</td>\n",
       "      <td>Pa10</td>\n",
       "      <td>Myoviridae</td>\n",
       "      <td>Myoviridae</td>\n",
       "      <td>65752</td>\n",
       "      <td>66223</td>\n",
       "      <td>['SEED:fig|287.19288.peg.93']</td>\n",
       "      <td>...</td>\n",
       "      <td>-1</td>\n",
       "      <td>PDFEVVQKAQPTQQGTSTRPTIFFQKLFDIPRGWPATDWHLDNTAR...</td>\n",
       "      <td>287.19288</td>\n",
       "      <td>66223.0</td>\n",
       "      <td>Pa12</td>\n",
       "      <td>CCGGATTTTGAAGTCGTCCAGAAAGCTCAGCCGACCCAACAGGGAA...</td>\n",
       "      <td>CCG</td>\n",
       "      <td>PDFEVVQKAQPTQQGTSTRPTIFFQKLFDIPRGWPATDWHLDNTAR...</td>\n",
       "      <td>83.333333</td>\n",
       "      <td>156</td>\n",
       "    </tr>\n",
       "    <tr>\n",
       "      <th>2791</th>\n",
       "      <td>66178</td>\n",
       "      <td>T</td>\n",
       "      <td>C</td>\n",
       "      <td>Pa12</td>\n",
       "      <td>Pa10</td>\n",
       "      <td>Myoviridae</td>\n",
       "      <td>Myoviridae</td>\n",
       "      <td>65752</td>\n",
       "      <td>66223</td>\n",
       "      <td>['SEED:fig|287.19288.peg.93']</td>\n",
       "      <td>...</td>\n",
       "      <td>-1</td>\n",
       "      <td>PDFEVVQKAQPTQQGTSTRPTIFFQKLFDIPRGWPATDWHLDNTAR...</td>\n",
       "      <td>287.19288</td>\n",
       "      <td>66223.0</td>\n",
       "      <td>Pa12</td>\n",
       "      <td>CCGGATTTTGAAGTCGTCCAGAAAGCTCAGCCGACCCAACAGGGGA...</td>\n",
       "      <td>CCG</td>\n",
       "      <td>PDFEVVQKAQPTQQGTSTRPTIFFQKLFDIPRGWPATDWHLDNTAR...</td>\n",
       "      <td>83.333333</td>\n",
       "      <td>156</td>\n",
       "    </tr>\n",
       "  </tbody>\n",
       "</table>\n",
       "<p>2792 rows × 21 columns</p>\n",
       "</div>"
      ],
      "text/plain": [
       "        POS REF ALT reference reads morphology reference morphology reads  \\\n",
       "0     24960   G   T      Pa10  Pa12           Myoviridae       Myoviridae   \n",
       "1     39614   G   A      Pa10  Pa12           Myoviridae       Myoviridae   \n",
       "2     39632   T   G      Pa10  Pa12           Myoviridae       Myoviridae   \n",
       "3     39686   C   A      Pa10  Pa12           Myoviridae       Myoviridae   \n",
       "4     39782   G   A      Pa10  Pa12           Myoviridae       Myoviridae   \n",
       "...     ...  ..  ..       ...   ...                  ...              ...   \n",
       "2787  66091   C   T      Pa12  Pa10           Myoviridae       Myoviridae   \n",
       "2788  66133   A   G      Pa12  Pa10           Myoviridae       Myoviridae   \n",
       "2789  66145   T   C      Pa12  Pa10           Myoviridae       Myoviridae   \n",
       "2790  66154   A   G      Pa12  Pa10           Myoviridae       Myoviridae   \n",
       "2791  66178   T   C      Pa12  Pa10           Myoviridae       Myoviridae   \n",
       "\n",
       "      gene start  gene stop             protein annotation  ... complement  \\\n",
       "0          24958      25222  ['SEED:fig|287.19287.peg.44']  ...          1   \n",
       "1          38789      41678  ['SEED:fig|287.19287.peg.61']  ...         -1   \n",
       "2          38789      41678  ['SEED:fig|287.19287.peg.61']  ...         -1   \n",
       "3          38789      41678  ['SEED:fig|287.19287.peg.61']  ...         -1   \n",
       "4          38789      41678  ['SEED:fig|287.19287.peg.61']  ...         -1   \n",
       "...          ...        ...                            ...  ...        ...   \n",
       "2787       65752      66223  ['SEED:fig|287.19288.peg.93']  ...         -1   \n",
       "2788       65752      66223  ['SEED:fig|287.19288.peg.93']  ...         -1   \n",
       "2789       65752      66223  ['SEED:fig|287.19288.peg.93']  ...         -1   \n",
       "2790       65752      66223  ['SEED:fig|287.19288.peg.93']  ...         -1   \n",
       "2791       65752      66223  ['SEED:fig|287.19288.peg.93']  ...         -1   \n",
       "\n",
       "                                    protein translation         ID  Size (bp)  \\\n",
       "0     MYAPDHPEEVPMSFLEMQVDQPQPKTAPSFVLIGILYLIGDERLDD...  287.19287    66638.0   \n",
       "1     MITPELIPSPFAAQGDKDPIPQTSSTGFANLRDGYTPDYEISLASN...  287.19287    66638.0   \n",
       "2     MITPELIPSPFAAQGDKDPIPQTSSTGFANLRDGYTPDYEISLASN...  287.19287    66638.0   \n",
       "3     MITPELIPSPFAAQGDKDPIPQTSSTGFANLRDGYTPDYEISLASN...  287.19287    66638.0   \n",
       "4     MITPELIPSPFAAQGDKDPIPQTSSTGFANLRDGYTPDYEISLASN...  287.19287    66638.0   \n",
       "...                                                 ...        ...        ...   \n",
       "2787  PDFEVVQKAQPTQQGTSTRPTIFFQKLFDIPRGWPATDWHLDNTAR...  287.19288    66223.0   \n",
       "2788  PDFEVVQKAQPTQQGTSTRPTIFFQKLFDIPRGWPATDWHLDNTAR...  287.19288    66223.0   \n",
       "2789  PDFEVVQKAQPTQQGTSTRPTIFFQKLFDIPRGWPATDWHLDNTAR...  287.19288    66223.0   \n",
       "2790  PDFEVVQKAQPTQQGTSTRPTIFFQKLFDIPRGWPATDWHLDNTAR...  287.19288    66223.0   \n",
       "2791  PDFEVVQKAQPTQQGTSTRPTIFFQKLFDIPRGWPATDWHLDNTAR...  287.19288    66223.0   \n",
       "\n",
       "      phage                                   altered sequence error  \\\n",
       "0      Pa10  ATTTACGCACCAGACCATCCTGAAGAGGTTCCTATGTCCTTCCTCG...   ATT   \n",
       "1      Pa10  GTGATCACACCCGAACTGATACCCAGTCCGTTTGCTGCGCAGGGCG...   GTG   \n",
       "2      Pa10  GTGATCACACCCGAACTGATACCCAGTCCGTTTGCTGCGCAGGGCG...   GTG   \n",
       "3      Pa10  GTGATCACACCCGAACTGATACCCAGTCCGTTTGCTGCGCAGGGCG...   GTG   \n",
       "4      Pa10  GTGATCACACCCGAACTGATACCCAGTCCGTTTGCTGCGCAGGGCG...   GTG   \n",
       "...     ...                                                ...   ...   \n",
       "2787   Pa12  CCGGATTTTGAAGTCGTCCAGAAAGCTCAGCCGACCCAACAGGGAA...   CCG   \n",
       "2788   Pa12  CCGGATTTTGAAGTCGTCCAGAAAGCTCAGCCGACCCAACAGGGAA...   CCG   \n",
       "2789   Pa12  CCGGATTTTGAAGTCGTCCAGAAAGCTCAGCCGACCCAACAGGGAA...   CCG   \n",
       "2790   Pa12  CCGGATTTTGAAGTCGTCCAGAAAGCTCAGCCGACCCAACAGGGAA...   CCG   \n",
       "2791   Pa12  CCGGATTTTGAAGTCGTCCAGAAAGCTCAGCCGACCCAACAGGGGA...   CCG   \n",
       "\n",
       "                                        altered protein percentage cutoff  \\\n",
       "0     IYAPDHPEEVPMSFLEMQVDQPQPKTAPSFVLIGILYLIGDERLDD...         12.643678   \n",
       "1     VITPELIPSPFAAQGDKDPIPQTSSTGFANLRDGYTPDYEISLASN...          7.796258   \n",
       "2     VITPELIPSPFAAQGDKDPIPQTSSTGFANLRDGYTPDYEISLASN...          7.796258   \n",
       "3     VITPELIPSPFAAQGDKDPIPQTSSTGFANLRDGYTPDYEISLASN...          7.796258   \n",
       "4     VITPELIPSPFAAQGDKDPIPQTSSTGFANLRDGYTPDYEISLASN...          7.796258   \n",
       "...                                                 ...               ...   \n",
       "2787  PDFEVVQKAQPTQQGTSTRPTIFFQKLFDIPRGWPATDWHLDNTAR...         83.333333   \n",
       "2788  PDFEVVQKAQPTQQGTSTRPTIFFQKLFDIPRGWPATDWHLDNTAR...         83.333333   \n",
       "2789  PDFEVVQKAQPTQQGTSTRPTIFFQKLFDIPRGWPATDWHLDNTAR...         83.333333   \n",
       "2790  PDFEVVQKAQPTQQGTSTRPTIFFQKLFDIPRGWPATDWHLDNTAR...         83.333333   \n",
       "2791  PDFEVVQKAQPTQQGTSTRPTIFFQKLFDIPRGWPATDWHLDNTAR...         83.333333   \n",
       "\n",
       "      original protein length  \n",
       "0                          87  \n",
       "1                         962  \n",
       "2                         962  \n",
       "3                         962  \n",
       "4                         962  \n",
       "...                       ...  \n",
       "2787                      156  \n",
       "2788                      156  \n",
       "2789                      156  \n",
       "2790                      156  \n",
       "2791                      156  \n",
       "\n",
       "[2792 rows x 21 columns]"
      ]
     },
     "execution_count": 14,
     "metadata": {},
     "output_type": "execute_result"
    }
   ],
   "source": [
    "wrong_start_df"
   ]
  },
  {
   "cell_type": "markdown",
   "id": "f644ddac-0739-4a2b-90b0-5044aca4de26",
   "metadata": {},
   "source": [
    "# - What is the error we get? What does it tell about the transation that occurred? \n",
    "- What is the distribution of the cutoff after a wrong start codon? \n",
    "- Are phages prepared for this cutoff? "
   ]
  },
  {
   "cell_type": "code",
   "execution_count": 57,
   "id": "8ed3ace1-55c2-4aee-8d6b-cbec2fde124d",
   "metadata": {},
   "outputs": [
    {
     "name": "stderr",
     "output_type": "stream",
     "text": [
      "C:\\Users\\Halewijn\\AppData\\Local\\Temp/ipykernel_19368/826715217.py:25: VisibleDeprecationWarning: Creating an ndarray from ragged nested sequences (which is a list-or-tuple of lists-or-tuples-or ndarrays with different lengths or shapes) is deprecated. If you meant to do this, you must specify 'dtype=object' when creating the ndarray.\n",
      "  M_positions = np.array(M_positions)\n",
      "C:\\Users\\Halewijn\\AppData\\Local\\Temp/ipykernel_19368/826715217.py:31: VisibleDeprecationWarning: Creating an ndarray from ragged nested sequences (which is a list-or-tuple of lists-or-tuples-or ndarrays with different lengths or shapes) is deprecated. If you meant to do this, you must specify 'dtype=object' when creating the ndarray.\n",
      "  sns.histplot(np.concatenate(np.array(normalized_M_positions)), bins = 100, ax = axes[0][2], kde=True)\n"
     ]
    },
    {
     "data": {
      "image/png": "[encoded data removed]",
      "text/plain": [
       "<Figure size 864x720 with 6 Axes>"
      ]
     },
     "metadata": {
      "needs_background": "light"
     },
     "output_type": "display_data"
    }
   ],
   "source": [
    "fig, axes = plt.subplots(2,3, figsize = (12,10))\n",
    "\n",
    "#first plot\n",
    "sns.barplot(data= wrong_start_df.groupby('error', as_index = False).size().sort_values('size', ascending = False),\n",
    "            x = 'error', y = 'size', color='tab:blue', ax = axes[0][0])\n",
    "axes[0][0].set_yscale('log')\n",
    "axes[0][0].tick_params(labelrotation=90)\n",
    "\n",
    "#histogram plot of cutoff\n",
    "sns.histplot(data = wrong_start_df, x = 'percentage cutoff', bins = 100, ax = axes[0][1], kde = False)\n",
    "axes[0][1].set_yscale('log')\n",
    "\n",
    "#third plot \n",
    "M_positions = []\n",
    "protein_translation = wrong_start_df.loc[:, 'protein translation'].astype('str').str[2:-2]\n",
    "for ii in range(len(protein_translation)): \n",
    "    found_positions = [i for i, letter in enumerate(protein_translation[ii]) if letter == 'M']\n",
    "    found_positions = found_positions[1:]\n",
    "    M_positions = M_positions + [found_positions]\n",
    "    # if np.array(found_positions).shape[0] == 0: \n",
    "    #     print('no methyl groups')\n",
    "    #M_positions = M_positions[1:]\n",
    "\n",
    "lengths = np.array(protein_translation.str.len())\n",
    "M_positions = np.array(M_positions)\n",
    "normalized_M_positions = []\n",
    "for ii in range(len(lengths)): \n",
    "    length = lengths[ii]\n",
    "    np.divide(M_positions[ii],length)*100\n",
    "    normalized_M_positions = normalized_M_positions + [np.divide(M_positions[ii],length)*100]\n",
    "sns.histplot(np.concatenate(np.array(normalized_M_positions)), bins = 100, ax = axes[0][2], kde=True)\n",
    "axes[0][2].set_xlabel('Where we found Ms')\n",
    "\n",
    "#fourth plot \n",
    "sns.histplot(data = wrong_start_df, x = 'percentage cutoff', hue = 'reads', multiple = 'stack', bins = 30, palette=sns.color_palette(n_colors=len(wrong_start_df.loc[:, 'reads'].unique())), \n",
    "            ax = axes[1][0])\n",
    "axes[1][0].set_yscale('log')\n",
    "\n",
    "\n",
    "plt.tight_layout()\n",
    "plt.show()"
   ]
  },
  {
   "cell_type": "code",
   "execution_count": null,
   "id": "40d38cc3-c542-4189-a818-c207852e6c29",
   "metadata": {},
   "outputs": [],
   "source": [
    "filt_wrong_start = wrong_start_df[wrong_start_df.loc[:, 'percentage cutoff'] >= 10]\n",
    "filt_wrong_start =  filt_wrong_start.reset_index()\n",
    "#filt_wrong_start.loc[:, '']\n",
    "filt_wrong_start.loc[:, 'product'].unique()\n",
    "filt_wrong_start.columns"
   ]
  },
  {
   "cell_type": "code",
   "execution_count": 11,
   "id": "4303cbc5-bcbb-4092-8e37-b134c0b75682",
   "metadata": {},
   "outputs": [
    {
     "name": "stderr",
     "output_type": "stream",
     "text": [
      "C:\\Users\\Halewijn\\anaconda3\\lib\\site-packages\\pandas\\core\\indexing.py:1667: SettingWithCopyWarning: \n",
      "A value is trying to be set on a copy of a slice from a DataFrame.\n",
      "Try using .loc[row_indexer,col_indexer] = value instead\n",
      "\n",
      "See the caveats in the documentation: https://pandas.pydata.org/pandas-docs/stable/user_guide/indexing.html#returning-a-view-versus-a-copy\n",
      "  self.obj[key] = value\n"
     ]
    }
   ],
   "source": [
    "histogram_plot = filt_wrong_start[['reference', 'reads', 'product', 'percentage cutoff', 'original protein length']]\n",
    "histogram_plot\n",
    "binsize = 100\n",
    "bins = 100/binsize\n",
    "bin_array = np.arange(0, 100,bins)\n",
    "all_filt_set_array = []\n",
    "for ii in range(len(bin_array)): \n",
    "    start = bin_array[ii]\n",
    "    stop = start + binsize\n",
    "    filt_set = histogram_plot[(histogram_plot.loc[:, 'percentage cutoff'] >= start)]\n",
    "    filt_set.loc[:, 'start'] = [start]*filt_set.shape[0]\n",
    "    all_filt_set_array = all_filt_set_array + [filt_set]\n",
    "all_filt_set_array = pd.concat(all_filt_set_array)    \n",
    "gr_all_filt_set_array =  all_filt_set_array.groupby(['start', 'product'], as_index = False).size()"
   ]
  },
  {
   "cell_type": "code",
   "execution_count": 12,
   "id": "374fb3bf-bc16-4e7c-8b21-387b764f6b26",
   "metadata": {},
   "outputs": [
    {
     "data": {
      "image/png": "[encoded data removed]",
      "text/plain": [
       "<Figure size 432x288 with 1 Axes>"
      ]
     },
     "metadata": {
      "needs_background": "light"
     },
     "output_type": "display_data"
    }
   ],
   "source": [
    "sns.barplot(data = gr_all_filt_set_array, x = 'start', y = 'size', hue = 'product')\n",
    "plt.xticks([])\n",
    "plt.show()"
   ]
  },
  {
   "cell_type": "markdown",
   "id": "18d89a43-1996-4b96-ace1-50304ae790ab",
   "metadata": {},
   "source": [
    "What is this tail fiber? Why does it have so many start codons? Check the amount of start codons"
   ]
  },
  {
   "cell_type": "code",
   "execution_count": 13,
   "id": "170e1182-6d4c-444a-a9c2-0c9b5ee80e0e",
   "metadata": {},
   "outputs": [
    {
     "data": {
      "text/plain": [
       "array([\"['hypothetical protein']\", \"['Phage tail fiber']\",\n",
       "       \"['Phage protein']\",\n",
       "       \"['DNA polymerase III alpha subunit (EC 2.7.7.7)']\"], dtype=object)"
      ]
     },
     "execution_count": 13,
     "metadata": {},
     "output_type": "execute_result"
    }
   ],
   "source": [
    "wrong_start_df.loc[:, 'product'].unique()"
   ]
  },
  {
   "cell_type": "code",
   "execution_count": 14,
   "id": "0b09a963-94f5-43b1-9da7-19f60b95421d",
   "metadata": {},
   "outputs": [
    {
     "data": {
      "text/plain": [
       "Index(['index', 'POS', 'REF', 'ALT', 'reference', 'reads',\n",
       "       'morphology reference', 'morphology reads', 'gene start', 'gene stop',\n",
       "       'protein annotation', 'product', 'complement', 'protein translation',\n",
       "       'ID', 'Size (bp)', 'phage', 'altered sequence', 'error',\n",
       "       'altered protein', 'percentage cutoff', 'original protein length'],\n",
       "      dtype='object')"
      ]
     },
     "execution_count": 14,
     "metadata": {},
     "output_type": "execute_result"
    }
   ],
   "source": [
    "phage_tail_fiber_df = wrong_start_df[wrong_start_df.loc[:, 'product'] == \"['Phage tail fiber']\"].reset_index()\n",
    "phage_tail_fiber_df.columns"
   ]
  },
  {
   "cell_type": "code",
   "execution_count": 15,
   "id": "343e5e60-c38a-426e-83b7-758626487719",
   "metadata": {},
   "outputs": [],
   "source": [
    "with open (r'C:\\Users\\Halewijn\\OneDrive\\Documenten\\third year\\BEP\\thesis\\mutational analysis\\phage tail fiber' \n",
    "          + '/' + 'alignment.fasta', 'w') as f: \n",
    "    f.write('')\n",
    "with open (r'C:\\Users\\Halewijn\\OneDrive\\Documenten\\third year\\BEP\\thesis\\mutational analysis\\phage tail fiber' \n",
    "          + '/' + 'alignment.fasta', 'a') as f: \n",
    "    for ii in range(phage_tail_fiber_df.shape[0]): \n",
    "        tail_fiber_sequence = phage_tail_fiber_df.loc[ii, 'altered protein']\n",
    "        reads = phage_tail_fiber_df.loc[ii, 'reads']\n",
    "        reference = phage_tail_fiber_df.loc[ii, 'reference']\n",
    "        position = phage_tail_fiber_df.loc[ii, 'POS']\n",
    "        f.write('>ref_' + reference + '_read_' + reads + '_position_' + str(position) + '\\n')\n",
    "        f.write(tail_fiber_sequence + '\\n')"
   ]
  },
  {
   "cell_type": "code",
   "execution_count": 16,
   "id": "0c3aee2c-15a5-4f49-9ca3-ccdb6696c82e",
   "metadata": {},
   "outputs": [
    {
     "name": "stdout",
     "output_type": "stream",
     "text": [
      "[]\n"
     ]
    }
   ],
   "source": [
    "s = 'python is fun'\n",
    "c = 'M'\n",
    "print([pos for pos, char in enumerate(s) if char == c])"
   ]
  },
  {
   "cell_type": "markdown",
   "id": "723f9ae1-9cc3-462d-90e0-fa194beb7f1a",
   "metadata": {},
   "source": [
    "## stop codons"
   ]
  },
  {
   "cell_type": "code",
   "execution_count": 17,
   "id": "90a1d590-4e12-4044-acb5-2af4f63891f9",
   "metadata": {},
   "outputs": [],
   "source": [
    "all_snps_df = pd.read_csv('final_df.csv').drop('Unnamed: 0', axis = 1)\n",
    "wrong_stop_df = all_snps_df[all_snps_df.loc[:, 'error'].str.contains('stop')]"
   ]
  },
  {
   "cell_type": "markdown",
   "id": "683d1048-3b39-4445-94e2-f1617ec20b1a",
   "metadata": {},
   "source": [
    "- where are the extra stop codons found? \n",
    "- what is the percentage cutoff? \n",
    "- Which phage has a cutoff? make a stackplot. Is there phage specificity? "
   ]
  },
  {
   "cell_type": "code",
   "execution_count": 18,
   "id": "1603216f-b570-4fc5-b760-b8011f7637ed",
   "metadata": {},
   "outputs": [
    {
     "data": {
      "image/png": "[encoded data removed]",
      "text/plain": [
       "<Figure size 1440x288 with 3 Axes>"
      ]
     },
     "metadata": {
      "needs_background": "light"
     },
     "output_type": "display_data"
    }
   ],
   "source": [
    "fig, axes = plt.subplots(1,3, figsize = (20,4))\n",
    "#first figure\n",
    "sns.barplot(data = wrong_stop_df.groupby('error', as_index = False).size().sort_values('size', ascending = False), x = 'error', y = 'size', color = 'tab:blue', ax = axes[0])\n",
    "axes[0].tick_params(labelrotation=90)\n",
    "#second figure\n",
    "early_stop_df = wrong_stop_df[wrong_stop_df.loc[:, 'error'].str.contains('Extra in frame')].reset_index()\n",
    "early_stop_df.loc[:, 'percentage cutoff'] = 1- early_stop_df.loc[:, 'altered protein'].str.find('*')/(early_stop_df.loc[:, 'altered protein'].str.len() + 1)\n",
    "sns.histplot(early_stop_df.loc[:, 'percentage cutoff'], bins = 50, ax = axes[1])\n",
    "axes[1].set_title('early stop')\n",
    "\n",
    "#second figure \n",
    "early_stop_df = wrong_stop_df[wrong_stop_df.loc[:, 'error'].str.contains('Extra in frame')].reset_index()\n",
    "early_stop_df.loc[:, 'percentage cutoff'] = (1- early_stop_df.loc[:, 'altered protein'].str.find('*')/(early_stop_df.loc[:, 'altered protein'].str.len() + 1))*100\n",
    "sns.histplot(data = early_stop_df, x = 'percentage cutoff', hue = 'reads',  ax = axes[2], multiple = 'stack', palette=sns.color_palette(n_colors=len(early_stop_df.loc[:, 'reads'].unique())), bins = 20)\n",
    "axes[2].set_title('early stop')\n",
    "\n",
    "#plt.tight_layout()\n",
    "plt.show()"
   ]
  },
  {
   "cell_type": "markdown",
   "id": "b831002f-fa42-49ac-8d8e-1f312929e906",
   "metadata": {},
   "source": [
    "- What proteins that are cut are represented a lot"
   ]
  },
  {
   "cell_type": "code",
   "execution_count": 19,
   "id": "78fcf9d1-e01e-46e2-9f08-28ab48c3f45e",
   "metadata": {},
   "outputs": [
    {
     "data": {
      "text/html": [
       "<div>\n",
       "<style scoped>\n",
       "    .dataframe tbody tr th:only-of-type {\n",
       "        vertical-align: middle;\n",
       "    }\n",
       "\n",
       "    .dataframe tbody tr th {\n",
       "        vertical-align: top;\n",
       "    }\n",
       "\n",
       "    .dataframe thead th {\n",
       "        text-align: right;\n",
       "    }\n",
       "</style>\n",
       "<table border=\"1\" class=\"dataframe\">\n",
       "  <thead>\n",
       "    <tr style=\"text-align: right;\">\n",
       "      <th></th>\n",
       "      <th>product</th>\n",
       "      <th>size</th>\n",
       "      <th>mean cutoff</th>\n",
       "    </tr>\n",
       "  </thead>\n",
       "  <tbody>\n",
       "    <tr>\n",
       "      <th>11</th>\n",
       "      <td>['hypothetical protein']</td>\n",
       "      <td>99</td>\n",
       "      <td>37.630439</td>\n",
       "    </tr>\n",
       "    <tr>\n",
       "      <th>7</th>\n",
       "      <td>['Phage protein']</td>\n",
       "      <td>59</td>\n",
       "      <td>56.069352</td>\n",
       "    </tr>\n",
       "    <tr>\n",
       "      <th>9</th>\n",
       "      <td>['Phage terminase, large subunit']</td>\n",
       "      <td>33</td>\n",
       "      <td>55.043946</td>\n",
       "    </tr>\n",
       "    <tr>\n",
       "      <th>10</th>\n",
       "      <td>['Phage-associated DNA primase']</td>\n",
       "      <td>20</td>\n",
       "      <td>19.277108</td>\n",
       "    </tr>\n",
       "    <tr>\n",
       "      <th>1</th>\n",
       "      <td>['DNA polymerase III alpha subunit (EC 2.7.7.7)']</td>\n",
       "      <td>18</td>\n",
       "      <td>93.105111</td>\n",
       "    </tr>\n",
       "    <tr>\n",
       "      <th>3</th>\n",
       "      <td>['Phage DNA-binding protein']</td>\n",
       "      <td>16</td>\n",
       "      <td>85.483871</td>\n",
       "    </tr>\n",
       "    <tr>\n",
       "      <th>2</th>\n",
       "      <td>['Phage DNA helicase']</td>\n",
       "      <td>13</td>\n",
       "      <td>43.228057</td>\n",
       "    </tr>\n",
       "    <tr>\n",
       "      <th>0</th>\n",
       "      <td>['DNA ligase, phage-associated']</td>\n",
       "      <td>12</td>\n",
       "      <td>87.076503</td>\n",
       "    </tr>\n",
       "    <tr>\n",
       "      <th>5</th>\n",
       "      <td>['Phage internal (core) protein']</td>\n",
       "      <td>6</td>\n",
       "      <td>8.779762</td>\n",
       "    </tr>\n",
       "    <tr>\n",
       "      <th>6</th>\n",
       "      <td>['Phage minor capsid protein']</td>\n",
       "      <td>6</td>\n",
       "      <td>36.250000</td>\n",
       "    </tr>\n",
       "    <tr>\n",
       "      <th>8</th>\n",
       "      <td>['Phage tail fiber']</td>\n",
       "      <td>5</td>\n",
       "      <td>82.894737</td>\n",
       "    </tr>\n",
       "    <tr>\n",
       "      <th>4</th>\n",
       "      <td>['Phage baseplate']</td>\n",
       "      <td>3</td>\n",
       "      <td>38.565022</td>\n",
       "    </tr>\n",
       "  </tbody>\n",
       "</table>\n",
       "</div>"
      ],
      "text/plain": [
       "                                              product  size  mean cutoff\n",
       "11                           ['hypothetical protein']    99    37.630439\n",
       "7                                   ['Phage protein']    59    56.069352\n",
       "9                  ['Phage terminase, large subunit']    33    55.043946\n",
       "10                   ['Phage-associated DNA primase']    20    19.277108\n",
       "1   ['DNA polymerase III alpha subunit (EC 2.7.7.7)']    18    93.105111\n",
       "3                       ['Phage DNA-binding protein']    16    85.483871\n",
       "2                              ['Phage DNA helicase']    13    43.228057\n",
       "0                    ['DNA ligase, phage-associated']    12    87.076503\n",
       "5                   ['Phage internal (core) protein']     6     8.779762\n",
       "6                      ['Phage minor capsid protein']     6    36.250000\n",
       "8                                ['Phage tail fiber']     5    82.894737\n",
       "4                                 ['Phage baseplate']     3    38.565022"
      ]
     },
     "execution_count": 19,
     "metadata": {},
     "output_type": "execute_result"
    }
   ],
   "source": [
    "product_cutoff_and_count = early_stop_df.groupby('product', as_index = False).size()\n",
    "product_cutoff_and_count.loc[:, 'mean cutoff'] = early_stop_df.groupby('product', as_index = False)['percentage cutoff'].mean().loc[:, 'percentage cutoff']\n",
    "product_cutoff_and_count.sort_values('size', ascending = False)"
   ]
  },
  {
   "cell_type": "code",
   "execution_count": null,
   "id": "f1e5da78-7e8d-4f0f-8659-1e27b15396d6",
   "metadata": {},
   "outputs": [],
   "source": []
  }
 ],
 "metadata": {
  "kernelspec": {
   "display_name": "Python 3 (ipykernel)",
   "language": "python",
   "name": "python3"
  },
  "language_info": {
   "codemirror_mode": {
    "name": "ipython",
    "version": 3
   },
   "file_extension": ".py",
   "mimetype": "text/x-python",
   "name": "python",
   "nbconvert_exporter": "python",
   "pygments_lexer": "ipython3",
   "version": "3.9.7"
  }
 },
 "nbformat": 4,
 "nbformat_minor": 5
}
